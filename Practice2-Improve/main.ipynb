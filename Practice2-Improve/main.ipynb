{
 "cells": [
  {
   "cell_type": "code",
   "execution_count": 1,
   "metadata": {
    "collapsed": true,
    "ExecuteTime": {
     "start_time": "2023-05-04T10:59:41.737751Z",
     "end_time": "2023-05-04T10:59:43.540457Z"
    }
   },
   "outputs": [],
   "source": [
    "from copy import deepcopy\n",
    "\n",
    "import torch\n",
    "import torch.nn as nn\n",
    "import torch.optim as optim\n",
    "from torchvision import transforms, datasets\n",
    "from torch.utils.data import DataLoader\n",
    "from torch.optim import lr_scheduler\n",
    "from tqdm import tqdm\n",
    "\n",
    "from model import Model"
   ]
  },
  {
   "cell_type": "code",
   "execution_count": 2,
   "outputs": [],
   "source": [
    "# hyps\n",
    "epochs = 100\n",
    "batch_size_train = 512  # 训练的batch_size\n",
    "batch_size_test = 1000  # 测试的batch_size\n",
    "learning_rate = 1e-3  # 学习率\n",
    "momentum = 0.5  # 优化器动量"
   ],
   "metadata": {
    "collapsed": false,
    "ExecuteTime": {
     "start_time": "2023-05-04T10:59:43.544273Z",
     "end_time": "2023-05-04T10:59:43.560534Z"
    }
   }
  },
  {
   "cell_type": "code",
   "execution_count": 3,
   "outputs": [],
   "source": [
    "random_seed = 1  # 随机种子\n",
    "torch.manual_seed(random_seed)\n",
    "device = torch.device('cuda:0' if torch.cuda.is_available() else 'cpu')"
   ],
   "metadata": {
    "collapsed": false,
    "ExecuteTime": {
     "start_time": "2023-05-04T10:59:43.560534Z",
     "end_time": "2023-05-04T10:59:43.592685Z"
    }
   }
  },
  {
   "cell_type": "code",
   "execution_count": 4,
   "outputs": [],
   "source": [
    "# train transform, dataset, dataloader\n",
    "train_transform = transforms.Compose([\n",
    "    transforms.RandomAffine(degrees=0, translate=(0.1, 0.1)),\n",
    "    transforms.RandomRotation((-10, 10)),\n",
    "    transforms.ToTensor(),\n",
    "    transforms.Normalize((0.1307,), (0.3081,)),\n",
    "])\n",
    "\n",
    "train_dataset = datasets.MNIST(\n",
    "    root='../Practice2/MNIST',\n",
    "    train=True,\n",
    "    download=False,\n",
    "    transform=train_transform,\n",
    ")\n",
    "\n",
    "train_loader = DataLoader(\n",
    "    dataset=train_dataset,\n",
    "    batch_size=512,\n",
    "    num_workers=0,\n",
    "    shuffle=True,\n",
    "    pin_memory=True,\n",
    ")"
   ],
   "metadata": {
    "collapsed": false,
    "ExecuteTime": {
     "start_time": "2023-05-04T10:59:43.592685Z",
     "end_time": "2023-05-04T10:59:43.640872Z"
    }
   }
  },
  {
   "cell_type": "code",
   "execution_count": 5,
   "outputs": [],
   "source": [
    "# test transform, dataset, dataloader\n",
    "test_transform = transforms.Compose([\n",
    "    transforms.ToTensor(),\n",
    "    transforms.Normalize((0.1307,), (0.3081,)),\n",
    "])\n",
    "\n",
    "test_dataset = datasets.MNIST(\n",
    "    root='../Practice2/MNIST',\n",
    "    train=False,\n",
    "    download=False,\n",
    "    transform=test_transform,\n",
    ")\n",
    "\n",
    "test_loader = DataLoader(\n",
    "    dataset=test_dataset,\n",
    "    batch_size=1024,\n",
    "    num_workers=0,\n",
    "    shuffle=False,\n",
    "    pin_memory=True,\n",
    ")"
   ],
   "metadata": {
    "collapsed": false,
    "ExecuteTime": {
     "start_time": "2023-05-04T10:59:43.644130Z",
     "end_time": "2023-05-04T10:59:43.656586Z"
    }
   }
  },
  {
   "cell_type": "code",
   "execution_count": 6,
   "outputs": [],
   "source": [
    "model = Model().to(device)\n",
    "optimizer = optim.RMSprop(model.parameters(), lr=learning_rate, alpha=0.99, momentum=momentum)\n",
    "scheduler = lr_scheduler.ReduceLROnPlateau(\n",
    "    optimizer,\n",
    "    mode='max',\n",
    "    factor=0.5,\n",
    "    patience=3,\n",
    "    verbose=False,\n",
    "    threshold=0.00005,\n",
    "    threshold_mode='rel',\n",
    "    cooldown=0,\n",
    "    min_lr=0,\n",
    "    eps=1e-08\n",
    ")\n",
    "loss_fn = nn.NLLLoss()  # 模型输出的最后一层为LogSoftMax函数，故这里只需使用NLL_Loss即可变为CrossEntropyLoss"
   ],
   "metadata": {
    "collapsed": false,
    "ExecuteTime": {
     "start_time": "2023-05-04T10:59:43.658631Z",
     "end_time": "2023-05-04T10:59:43.759149Z"
    }
   }
  },
  {
   "cell_type": "code",
   "execution_count": 7,
   "outputs": [],
   "source": [
    "test_accuracies = []  # 存放每次测试的accuracy"
   ],
   "metadata": {
    "collapsed": false,
    "ExecuteTime": {
     "start_time": "2023-05-04T10:59:43.759149Z",
     "end_time": "2023-05-04T10:59:43.777177Z"
    }
   }
  },
  {
   "cell_type": "code",
   "execution_count": 8,
   "outputs": [],
   "source": [
    "def train(epoch):  # single epoch\n",
    "    correct = torch.zeros(1, device=device)\n",
    "    total = torch.zeros(1, device=device)\n",
    "    mloss = torch.zeros(1, device=device)  # mean_loss\n",
    "\n",
    "    pbar = tqdm(enumerate(train_loader), total=len(train_loader), desc=f'Epoch {epoch}/{epochs}', unit='batches')\n",
    "    model.train()\n",
    "    for i, (imgs, labels) in pbar:\n",
    "        imgs, labels = imgs.to(device), labels.to(device)\n",
    "        preds = model(imgs)\n",
    "        loss = loss_fn(preds, labels)\n",
    "        preds_ = torch.argmax(preds, dim=1)\n",
    "\n",
    "        optimizer.zero_grad()\n",
    "        loss.backward()\n",
    "        optimizer.step()\n",
    "\n",
    "        mloss = (mloss * i + loss) / (i + 1)\n",
    "        total += torch.tensor(labels.size(0))\n",
    "        correct += (preds_ == labels).sum()\n",
    "        accuracy = (correct / total).item()\n",
    "\n",
    "        mem = f'{torch.cuda.memory_reserved() / 1e9 if torch.cuda.is_available() else 0:.3g}G'  # GPU_mem\n",
    "        pbar.set_postfix(loss=mloss.item(), GPU_mem=mem, accuracy=round(accuracy, 3))\n",
    "    scheduler.step(mloss)"
   ],
   "metadata": {
    "collapsed": false,
    "ExecuteTime": {
     "start_time": "2023-05-04T10:59:43.777177Z",
     "end_time": "2023-05-04T10:59:43.792930Z"
    }
   }
  },
  {
   "cell_type": "code",
   "execution_count": 9,
   "outputs": [],
   "source": [
    "def test(epoch):  # single epoch\n",
    "    correct = torch.zeros(1, device=device)\n",
    "    total = torch.zeros(1, device=device)\n",
    "\n",
    "    model.eval()\n",
    "    with torch.no_grad():\n",
    "        pbar = tqdm(enumerate(test_loader), total=len(test_loader), desc='Test', unit='batches')\n",
    "        for i, (imgs, labels) in pbar:\n",
    "            imgs, labels = imgs.to(device), labels.to(device)\n",
    "            preds = model(imgs)  # 传入这一组 batch，进行前向计算\n",
    "            preds = torch.argmax(preds, dim=1)\n",
    "\n",
    "            total += torch.tensor(labels.size(0))\n",
    "            correct += (preds == labels).sum()\n",
    "            accuracy = (correct / total).item()\n",
    "            pbar.set_postfix(accuracy=round(accuracy, 3))\n",
    "    test_accuracies.append(accuracy)\n",
    "\n",
    "    if accuracy >= max(test_accuracies):\n",
    "        ckpt = {  # checkpoint\n",
    "            'epoch': epoch,\n",
    "            'model': deepcopy(model).half(),\n",
    "            'optimizer': optimizer.state_dict(),\n",
    "        }\n",
    "        torch.save(ckpt, 'Model.pt')"
   ],
   "metadata": {
    "collapsed": false,
    "ExecuteTime": {
     "start_time": "2023-05-04T10:59:43.792930Z",
     "end_time": "2023-05-04T10:59:43.810468Z"
    }
   }
  },
  {
   "cell_type": "code",
   "execution_count": 10,
   "outputs": [
    {
     "name": "stderr",
     "output_type": "stream",
     "text": [
      "Epoch 1/100: 100%|██████████| 118/118 [00:18<00:00,  6.36batches/s, GPU_mem=0.484G, accuracy=0.735, loss=0.894]\n",
      "Test: 100%|██████████| 10/10 [00:02<00:00,  4.04batches/s, accuracy=0.941]\n",
      "Epoch 2/100: 100%|██████████| 118/118 [00:26<00:00,  4.50batches/s, GPU_mem=0.614G, accuracy=0.948, loss=0.189]\n",
      "Test: 100%|██████████| 10/10 [00:00<00:00, 11.56batches/s, accuracy=0.969]\n",
      "Epoch 3/100: 100%|██████████| 118/118 [00:13<00:00,  8.85batches/s, GPU_mem=0.614G, accuracy=0.961, loss=0.141]\n",
      "Test: 100%|██████████| 10/10 [00:00<00:00, 11.25batches/s, accuracy=0.973]\n",
      "Epoch 4/100: 100%|██████████| 118/118 [00:13<00:00,  8.77batches/s, GPU_mem=0.614G, accuracy=0.968, loss=0.117]\n",
      "Test: 100%|██████████| 10/10 [00:00<00:00, 11.47batches/s, accuracy=0.991]\n",
      "Epoch 5/100: 100%|██████████| 118/118 [00:13<00:00,  8.83batches/s, GPU_mem=0.614G, accuracy=0.972, loss=0.1]   \n",
      "Test: 100%|██████████| 10/10 [00:00<00:00, 11.64batches/s, accuracy=0.989]\n",
      "Epoch 6/100: 100%|██████████| 118/118 [00:13<00:00,  8.89batches/s, GPU_mem=0.614G, accuracy=0.978, loss=0.0809]\n",
      "Test: 100%|██████████| 10/10 [00:00<00:00, 11.58batches/s, accuracy=0.993]\n",
      "Epoch 7/100: 100%|██████████| 118/118 [00:13<00:00,  8.94batches/s, GPU_mem=0.614G, accuracy=0.98, loss=0.0727] \n",
      "Test: 100%|██████████| 10/10 [00:00<00:00, 11.52batches/s, accuracy=0.993]\n",
      "Epoch 8/100: 100%|██████████| 118/118 [00:13<00:00,  8.96batches/s, GPU_mem=0.614G, accuracy=0.98, loss=0.0707]\n",
      "Test: 100%|██████████| 10/10 [00:00<00:00, 11.67batches/s, accuracy=0.993]\n",
      "Epoch 9/100: 100%|██████████| 118/118 [00:13<00:00,  8.72batches/s, GPU_mem=0.614G, accuracy=0.98, loss=0.069] \n",
      "Test: 100%|██████████| 10/10 [00:00<00:00, 11.17batches/s, accuracy=0.993]\n",
      "Epoch 10/100: 100%|██████████| 118/118 [00:13<00:00,  8.79batches/s, GPU_mem=0.614G, accuracy=0.984, loss=0.0588]\n",
      "Test: 100%|██████████| 10/10 [00:00<00:00, 11.54batches/s, accuracy=0.995]\n",
      "Epoch 11/100: 100%|██████████| 118/118 [00:14<00:00,  8.29batches/s, GPU_mem=0.614G, accuracy=0.984, loss=0.0566]\n",
      "Test: 100%|██████████| 10/10 [00:01<00:00,  5.19batches/s, accuracy=0.994]\n",
      "Epoch 12/100: 100%|██████████| 118/118 [00:15<00:00,  7.40batches/s, GPU_mem=0.614G, accuracy=0.984, loss=0.0555]\n",
      "Test: 100%|██████████| 10/10 [00:00<00:00, 11.35batches/s, accuracy=0.995]\n",
      "Epoch 13/100: 100%|██████████| 118/118 [00:13<00:00,  8.76batches/s, GPU_mem=0.614G, accuracy=0.985, loss=0.0527]\n",
      "Test: 100%|██████████| 10/10 [00:00<00:00, 11.47batches/s, accuracy=0.996]\n",
      "Epoch 14/100: 100%|██████████| 118/118 [00:13<00:00,  8.85batches/s, GPU_mem=0.614G, accuracy=0.986, loss=0.0492]\n",
      "Test: 100%|██████████| 10/10 [00:00<00:00, 11.47batches/s, accuracy=0.996]\n",
      "Epoch 15/100: 100%|██████████| 118/118 [00:13<00:00,  8.90batches/s, GPU_mem=0.614G, accuracy=0.987, loss=0.048] \n",
      "Test: 100%|██████████| 10/10 [00:00<00:00, 11.63batches/s, accuracy=0.996]\n",
      "Epoch 16/100: 100%|██████████| 118/118 [00:13<00:00,  9.04batches/s, GPU_mem=0.614G, accuracy=0.987, loss=0.048] \n",
      "Test: 100%|██████████| 10/10 [00:00<00:00, 11.32batches/s, accuracy=0.996]\n",
      "Epoch 17/100: 100%|██████████| 118/118 [00:23<00:00,  4.94batches/s, GPU_mem=0.614G, accuracy=0.986, loss=0.0469]\n",
      "Test: 100%|██████████| 10/10 [00:01<00:00,  6.96batches/s, accuracy=0.996]\n",
      "Epoch 18/100: 100%|██████████| 118/118 [00:24<00:00,  4.79batches/s, GPU_mem=0.614G, accuracy=0.987, loss=0.0455]\n",
      "Test: 100%|██████████| 10/10 [00:02<00:00,  4.55batches/s, accuracy=0.996]\n",
      "Epoch 19/100: 100%|██████████| 118/118 [00:21<00:00,  5.43batches/s, GPU_mem=0.614G, accuracy=0.987, loss=0.0458]\n",
      "Test: 100%|██████████| 10/10 [00:01<00:00,  5.83batches/s, accuracy=0.996]\n",
      "Epoch 20/100: 100%|██████████| 118/118 [00:24<00:00,  4.86batches/s, GPU_mem=0.614G, accuracy=0.987, loss=0.0459]\n",
      "Test: 100%|██████████| 10/10 [00:00<00:00, 11.13batches/s, accuracy=0.996]\n",
      "Epoch 21/100: 100%|██████████| 118/118 [00:12<00:00,  9.15batches/s, GPU_mem=0.614G, accuracy=0.987, loss=0.0461]\n",
      "Test: 100%|██████████| 10/10 [00:00<00:00, 11.31batches/s, accuracy=0.996]\n",
      "Epoch 22/100: 100%|██████████| 118/118 [00:12<00:00,  9.35batches/s, GPU_mem=0.614G, accuracy=0.988, loss=0.0454]\n",
      "Test: 100%|██████████| 10/10 [00:00<00:00, 11.53batches/s, accuracy=0.997]\n",
      "Epoch 23/100: 100%|██████████| 118/118 [00:13<00:00,  8.82batches/s, GPU_mem=0.614G, accuracy=0.988, loss=0.0447]\n",
      "Test: 100%|██████████| 10/10 [00:00<00:00, 11.42batches/s, accuracy=0.996]\n",
      "Epoch 24/100: 100%|██████████| 118/118 [00:13<00:00,  8.70batches/s, GPU_mem=0.614G, accuracy=0.988, loss=0.044] \n",
      "Test: 100%|██████████| 10/10 [00:00<00:00, 11.29batches/s, accuracy=0.997]\n",
      "Epoch 25/100: 100%|██████████| 118/118 [00:13<00:00,  8.77batches/s, GPU_mem=0.614G, accuracy=0.988, loss=0.0415]\n",
      "Test: 100%|██████████| 10/10 [00:00<00:00, 11.45batches/s, accuracy=0.996]\n",
      "Epoch 26/100: 100%|██████████| 118/118 [00:13<00:00,  8.73batches/s, GPU_mem=0.614G, accuracy=0.988, loss=0.0406]\n",
      "Test: 100%|██████████| 10/10 [00:00<00:00, 11.74batches/s, accuracy=0.996]\n",
      "Epoch 27/100: 100%|██████████| 118/118 [00:13<00:00,  8.66batches/s, GPU_mem=0.614G, accuracy=0.988, loss=0.0431]\n",
      "Test: 100%|██████████| 10/10 [00:00<00:00, 11.28batches/s, accuracy=0.996]\n",
      "Epoch 28/100: 100%|██████████| 118/118 [00:13<00:00,  8.73batches/s, GPU_mem=0.614G, accuracy=0.989, loss=0.0404]\n",
      "Test: 100%|██████████| 10/10 [00:00<00:00, 11.76batches/s, accuracy=0.996]\n",
      "Epoch 29/100: 100%|██████████| 118/118 [00:13<00:00,  8.80batches/s, GPU_mem=0.614G, accuracy=0.988, loss=0.043] \n",
      "Test: 100%|██████████| 10/10 [00:00<00:00, 11.31batches/s, accuracy=0.996]\n",
      "Epoch 30/100: 100%|██████████| 118/118 [00:13<00:00,  8.74batches/s, GPU_mem=0.614G, accuracy=0.989, loss=0.0401]\n",
      "Test: 100%|██████████| 10/10 [00:00<00:00, 11.32batches/s, accuracy=0.996]\n",
      "Epoch 31/100: 100%|██████████| 118/118 [00:13<00:00,  8.69batches/s, GPU_mem=0.614G, accuracy=0.988, loss=0.0398]\n",
      "Test: 100%|██████████| 10/10 [00:00<00:00, 11.29batches/s, accuracy=0.996]\n",
      "Epoch 32/100: 100%|██████████| 118/118 [00:13<00:00,  8.73batches/s, GPU_mem=0.614G, accuracy=0.989, loss=0.0396]\n",
      "Test: 100%|██████████| 10/10 [00:00<00:00, 11.53batches/s, accuracy=0.997]\n",
      "Epoch 33/100: 100%|██████████| 118/118 [00:13<00:00,  8.76batches/s, GPU_mem=0.614G, accuracy=0.989, loss=0.0397]\n",
      "Test: 100%|██████████| 10/10 [00:00<00:00, 11.47batches/s, accuracy=0.997]\n",
      "Epoch 34/100: 100%|██████████| 118/118 [00:13<00:00,  8.65batches/s, GPU_mem=0.614G, accuracy=0.988, loss=0.0413]\n",
      "Test: 100%|██████████| 10/10 [00:00<00:00, 11.45batches/s, accuracy=0.997]\n",
      "Epoch 35/100: 100%|██████████| 118/118 [00:13<00:00,  8.69batches/s, GPU_mem=0.614G, accuracy=0.989, loss=0.0384]\n",
      "Test: 100%|██████████| 10/10 [00:00<00:00, 11.02batches/s, accuracy=0.997]\n",
      "Epoch 36/100: 100%|██████████| 118/118 [00:13<00:00,  8.70batches/s, GPU_mem=0.614G, accuracy=0.988, loss=0.0429]\n",
      "Test: 100%|██████████| 10/10 [00:00<00:00, 11.40batches/s, accuracy=0.996]\n",
      "Epoch 37/100: 100%|██████████| 118/118 [00:13<00:00,  8.69batches/s, GPU_mem=0.614G, accuracy=0.988, loss=0.0437]\n",
      "Test: 100%|██████████| 10/10 [00:00<00:00, 11.50batches/s, accuracy=0.997]\n",
      "Epoch 38/100: 100%|██████████| 118/118 [00:13<00:00,  8.72batches/s, GPU_mem=0.614G, accuracy=0.988, loss=0.0427]\n",
      "Test: 100%|██████████| 10/10 [00:00<00:00, 10.61batches/s, accuracy=0.996]\n",
      "Epoch 39/100: 100%|██████████| 118/118 [00:11<00:00, 10.09batches/s, GPU_mem=0.614G, accuracy=0.988, loss=0.0442]\n",
      "Test: 100%|██████████| 10/10 [00:00<00:00, 10.69batches/s, accuracy=0.997]\n",
      "Epoch 40/100: 100%|██████████| 118/118 [00:13<00:00,  8.80batches/s, GPU_mem=0.614G, accuracy=0.989, loss=0.0427]\n",
      "Test: 100%|██████████| 10/10 [00:00<00:00, 11.56batches/s, accuracy=0.997]\n",
      "Epoch 41/100: 100%|██████████| 118/118 [00:13<00:00,  8.69batches/s, GPU_mem=0.614G, accuracy=0.988, loss=0.0413]\n",
      "Test: 100%|██████████| 10/10 [00:00<00:00, 11.07batches/s, accuracy=0.996]\n",
      "Epoch 42/100: 100%|██████████| 118/118 [00:13<00:00,  8.74batches/s, GPU_mem=0.614G, accuracy=0.988, loss=0.0422]\n",
      "Test: 100%|██████████| 10/10 [00:00<00:00, 10.75batches/s, accuracy=0.997]\n",
      "Epoch 43/100: 100%|██████████| 118/118 [00:13<00:00,  8.75batches/s, GPU_mem=0.614G, accuracy=0.988, loss=0.0411]\n",
      "Test: 100%|██████████| 10/10 [00:00<00:00, 11.47batches/s, accuracy=0.997]\n",
      "Epoch 44/100: 100%|██████████| 118/118 [00:13<00:00,  8.74batches/s, GPU_mem=0.614G, accuracy=0.988, loss=0.0423]\n",
      "Test: 100%|██████████| 10/10 [00:00<00:00, 11.16batches/s, accuracy=0.997]\n",
      "Epoch 45/100: 100%|██████████| 118/118 [00:13<00:00,  8.77batches/s, GPU_mem=0.614G, accuracy=0.988, loss=0.0401]\n",
      "Test: 100%|██████████| 10/10 [00:00<00:00, 11.45batches/s, accuracy=0.997]\n",
      "Epoch 46/100: 100%|██████████| 118/118 [00:13<00:00,  8.72batches/s, GPU_mem=0.614G, accuracy=0.988, loss=0.0406]\n",
      "Test: 100%|██████████| 10/10 [00:00<00:00, 11.09batches/s, accuracy=0.996]\n",
      "Epoch 47/100: 100%|██████████| 118/118 [00:14<00:00,  8.40batches/s, GPU_mem=0.614G, accuracy=0.988, loss=0.0429]\n",
      "Test: 100%|██████████| 10/10 [00:01<00:00,  5.26batches/s, accuracy=0.997]\n",
      "Epoch 48/100: 100%|██████████| 118/118 [00:24<00:00,  4.75batches/s, GPU_mem=0.614G, accuracy=0.988, loss=0.0396]\n",
      "Test: 100%|██████████| 10/10 [00:02<00:00,  4.99batches/s, accuracy=0.997]\n",
      "Epoch 49/100: 100%|██████████| 118/118 [00:24<00:00,  4.77batches/s, GPU_mem=0.614G, accuracy=0.989, loss=0.0405]\n",
      "Test: 100%|██████████| 10/10 [00:01<00:00,  6.24batches/s, accuracy=0.997]\n",
      "Epoch 50/100: 100%|██████████| 118/118 [00:25<00:00,  4.63batches/s, GPU_mem=0.614G, accuracy=0.988, loss=0.0416]\n",
      "Test: 100%|██████████| 10/10 [00:02<00:00,  4.61batches/s, accuracy=0.997]\n",
      "Epoch 51/100: 100%|██████████| 118/118 [00:23<00:00,  5.06batches/s, GPU_mem=0.614G, accuracy=0.988, loss=0.0428]\n",
      "Test: 100%|██████████| 10/10 [00:01<00:00,  5.03batches/s, accuracy=0.997]\n",
      "Epoch 52/100: 100%|██████████| 118/118 [00:22<00:00,  5.15batches/s, GPU_mem=0.614G, accuracy=0.989, loss=0.0404]\n",
      "Test: 100%|██████████| 10/10 [00:01<00:00,  5.56batches/s, accuracy=0.997]\n",
      "Epoch 53/100: 100%|██████████| 118/118 [00:17<00:00,  6.87batches/s, GPU_mem=0.614G, accuracy=0.988, loss=0.0429]\n",
      "Test: 100%|██████████| 10/10 [00:00<00:00, 10.87batches/s, accuracy=0.997]\n",
      "Epoch 54/100: 100%|██████████| 118/118 [00:13<00:00,  8.80batches/s, GPU_mem=0.614G, accuracy=0.988, loss=0.0413]\n",
      "Test: 100%|██████████| 10/10 [00:00<00:00, 11.33batches/s, accuracy=0.997]\n",
      "Epoch 55/100: 100%|██████████| 118/118 [00:13<00:00,  8.79batches/s, GPU_mem=0.614G, accuracy=0.988, loss=0.0421]\n",
      "Test: 100%|██████████| 10/10 [00:00<00:00, 11.20batches/s, accuracy=0.997]\n",
      "Epoch 56/100: 100%|██████████| 118/118 [00:13<00:00,  8.79batches/s, GPU_mem=0.614G, accuracy=0.988, loss=0.042] \n",
      "Test: 100%|██████████| 10/10 [00:00<00:00, 11.51batches/s, accuracy=0.996]\n",
      "Epoch 57/100: 100%|██████████| 118/118 [00:13<00:00,  8.79batches/s, GPU_mem=0.614G, accuracy=0.988, loss=0.0408]\n",
      "Test: 100%|██████████| 10/10 [00:00<00:00, 11.45batches/s, accuracy=0.997]\n",
      "Epoch 58/100: 100%|██████████| 118/118 [00:13<00:00,  8.68batches/s, GPU_mem=0.614G, accuracy=0.988, loss=0.0407]\n",
      "Test: 100%|██████████| 10/10 [00:00<00:00, 10.96batches/s, accuracy=0.997]\n",
      "Epoch 59/100: 100%|██████████| 118/118 [00:13<00:00,  8.61batches/s, GPU_mem=0.614G, accuracy=0.988, loss=0.0417]\n",
      "Test: 100%|██████████| 10/10 [00:00<00:00, 11.55batches/s, accuracy=0.997]\n",
      "Epoch 60/100: 100%|██████████| 118/118 [00:13<00:00,  8.79batches/s, GPU_mem=0.614G, accuracy=0.988, loss=0.0423]\n",
      "Test: 100%|██████████| 10/10 [00:00<00:00, 11.55batches/s, accuracy=0.997]\n",
      "Epoch 61/100: 100%|██████████| 118/118 [00:13<00:00,  8.72batches/s, GPU_mem=0.614G, accuracy=0.989, loss=0.0422]\n",
      "Test: 100%|██████████| 10/10 [00:00<00:00, 11.13batches/s, accuracy=0.997]\n",
      "Epoch 62/100: 100%|██████████| 118/118 [00:13<00:00,  8.72batches/s, GPU_mem=0.614G, accuracy=0.989, loss=0.0412]\n",
      "Test: 100%|██████████| 10/10 [00:00<00:00, 11.34batches/s, accuracy=0.997]\n",
      "Epoch 63/100: 100%|██████████| 118/118 [00:13<00:00,  8.73batches/s, GPU_mem=0.614G, accuracy=0.988, loss=0.042] \n",
      "Test: 100%|██████████| 10/10 [00:00<00:00, 11.70batches/s, accuracy=0.997]\n",
      "Epoch 64/100: 100%|██████████| 118/118 [00:13<00:00,  8.76batches/s, GPU_mem=0.614G, accuracy=0.988, loss=0.0424]\n",
      "Test: 100%|██████████| 10/10 [00:00<00:00, 11.63batches/s, accuracy=0.996]\n",
      "Epoch 65/100: 100%|██████████| 118/118 [00:13<00:00,  8.77batches/s, GPU_mem=0.614G, accuracy=0.989, loss=0.0399]\n",
      "Test: 100%|██████████| 10/10 [00:00<00:00, 11.64batches/s, accuracy=0.997]\n",
      "Epoch 66/100: 100%|██████████| 118/118 [00:13<00:00,  8.81batches/s, GPU_mem=0.614G, accuracy=0.989, loss=0.042] \n",
      "Test: 100%|██████████| 10/10 [00:00<00:00, 11.15batches/s, accuracy=0.997]\n",
      "Epoch 67/100: 100%|██████████| 118/118 [00:13<00:00,  8.79batches/s, GPU_mem=0.614G, accuracy=0.988, loss=0.0412]\n",
      "Test: 100%|██████████| 10/10 [00:00<00:00, 11.52batches/s, accuracy=0.997]\n",
      "Epoch 68/100: 100%|██████████| 118/118 [00:13<00:00,  8.79batches/s, GPU_mem=0.614G, accuracy=0.988, loss=0.0422]\n",
      "Test: 100%|██████████| 10/10 [00:00<00:00, 11.47batches/s, accuracy=0.997]\n",
      "Epoch 69/100: 100%|██████████| 118/118 [00:13<00:00,  8.77batches/s, GPU_mem=0.614G, accuracy=0.989, loss=0.0395]\n",
      "Test: 100%|██████████| 10/10 [00:00<00:00, 11.57batches/s, accuracy=0.997]\n",
      "Epoch 70/100: 100%|██████████| 118/118 [00:13<00:00,  8.79batches/s, GPU_mem=0.614G, accuracy=0.988, loss=0.0425]\n",
      "Test: 100%|██████████| 10/10 [00:00<00:00, 11.54batches/s, accuracy=0.997]\n",
      "Epoch 71/100: 100%|██████████| 118/118 [00:13<00:00,  8.80batches/s, GPU_mem=0.614G, accuracy=0.989, loss=0.0408]\n",
      "Test: 100%|██████████| 10/10 [00:00<00:00, 11.60batches/s, accuracy=0.997]\n",
      "Epoch 72/100: 100%|██████████| 118/118 [00:13<00:00,  8.81batches/s, GPU_mem=0.614G, accuracy=0.989, loss=0.0414]\n",
      "Test: 100%|██████████| 10/10 [00:00<00:00, 11.05batches/s, accuracy=0.997]\n",
      "Epoch 73/100: 100%|██████████| 118/118 [00:13<00:00,  8.78batches/s, GPU_mem=0.614G, accuracy=0.989, loss=0.0409]\n",
      "Test: 100%|██████████| 10/10 [00:00<00:00, 11.45batches/s, accuracy=0.997]\n",
      "Epoch 74/100: 100%|██████████| 118/118 [00:13<00:00,  8.69batches/s, GPU_mem=0.614G, accuracy=0.989, loss=0.0417]\n",
      "Test: 100%|██████████| 10/10 [00:00<00:00, 11.51batches/s, accuracy=0.997]\n",
      "Epoch 75/100: 100%|██████████| 118/118 [00:13<00:00,  8.76batches/s, GPU_mem=0.614G, accuracy=0.988, loss=0.0434]\n",
      "Test: 100%|██████████| 10/10 [00:00<00:00, 11.44batches/s, accuracy=0.997]\n",
      "Epoch 76/100: 100%|██████████| 118/118 [00:13<00:00,  8.79batches/s, GPU_mem=0.614G, accuracy=0.989, loss=0.0396]\n",
      "Test: 100%|██████████| 10/10 [00:00<00:00, 11.18batches/s, accuracy=0.997]\n",
      "Epoch 77/100: 100%|██████████| 118/118 [00:13<00:00,  8.75batches/s, GPU_mem=0.614G, accuracy=0.988, loss=0.041] \n",
      "Test: 100%|██████████| 10/10 [00:00<00:00, 11.44batches/s, accuracy=0.997]\n",
      "Epoch 78/100: 100%|██████████| 118/118 [00:13<00:00,  8.76batches/s, GPU_mem=0.614G, accuracy=0.988, loss=0.0421]\n",
      "Test: 100%|██████████| 10/10 [00:00<00:00, 11.58batches/s, accuracy=0.996]\n",
      "Epoch 79/100: 100%|██████████| 118/118 [00:13<00:00,  8.76batches/s, GPU_mem=0.614G, accuracy=0.988, loss=0.0405]\n",
      "Test: 100%|██████████| 10/10 [00:00<00:00, 11.06batches/s, accuracy=0.997]\n",
      "Epoch 80/100: 100%|██████████| 118/118 [00:13<00:00,  8.78batches/s, GPU_mem=0.614G, accuracy=0.989, loss=0.0411]\n",
      "Test: 100%|██████████| 10/10 [00:00<00:00, 11.59batches/s, accuracy=0.997]\n",
      "Epoch 81/100: 100%|██████████| 118/118 [00:13<00:00,  8.77batches/s, GPU_mem=0.614G, accuracy=0.989, loss=0.0397]\n",
      "Test: 100%|██████████| 10/10 [00:00<00:00, 11.49batches/s, accuracy=0.997]\n",
      "Epoch 82/100: 100%|██████████| 118/118 [00:13<00:00,  8.74batches/s, GPU_mem=0.614G, accuracy=0.989, loss=0.0411]\n",
      "Test: 100%|██████████| 10/10 [00:00<00:00, 11.55batches/s, accuracy=0.997]\n",
      "Epoch 83/100: 100%|██████████| 118/118 [00:13<00:00,  8.70batches/s, GPU_mem=0.614G, accuracy=0.989, loss=0.0398]\n",
      "Test: 100%|██████████| 10/10 [00:00<00:00, 11.40batches/s, accuracy=0.997]\n",
      "Epoch 84/100: 100%|██████████| 118/118 [00:13<00:00,  8.79batches/s, GPU_mem=0.614G, accuracy=0.989, loss=0.0391]\n",
      "Test: 100%|██████████| 10/10 [00:00<00:00, 11.73batches/s, accuracy=0.997]\n",
      "Epoch 85/100: 100%|██████████| 118/118 [00:13<00:00,  8.76batches/s, GPU_mem=0.614G, accuracy=0.989, loss=0.0387]\n",
      "Test: 100%|██████████| 10/10 [00:00<00:00, 11.72batches/s, accuracy=0.997]\n",
      "Epoch 86/100: 100%|██████████| 118/118 [00:13<00:00,  8.78batches/s, GPU_mem=0.614G, accuracy=0.989, loss=0.0401]\n",
      "Test: 100%|██████████| 10/10 [00:00<00:00, 11.57batches/s, accuracy=0.997]\n",
      "Epoch 87/100: 100%|██████████| 118/118 [00:13<00:00,  8.72batches/s, GPU_mem=0.614G, accuracy=0.989, loss=0.0394]\n",
      "Test: 100%|██████████| 10/10 [00:00<00:00, 11.68batches/s, accuracy=0.997]\n",
      "Epoch 88/100: 100%|██████████| 118/118 [00:13<00:00,  8.76batches/s, GPU_mem=0.614G, accuracy=0.988, loss=0.0415]\n",
      "Test: 100%|██████████| 10/10 [00:00<00:00, 11.46batches/s, accuracy=0.997]\n",
      "Epoch 89/100: 100%|██████████| 118/118 [00:13<00:00,  8.72batches/s, GPU_mem=0.614G, accuracy=0.988, loss=0.0426]\n",
      "Test: 100%|██████████| 10/10 [00:00<00:00, 11.62batches/s, accuracy=0.997]\n",
      "Epoch 90/100: 100%|██████████| 118/118 [00:13<00:00,  8.73batches/s, GPU_mem=0.614G, accuracy=0.988, loss=0.0424]\n",
      "Test: 100%|██████████| 10/10 [00:00<00:00, 11.50batches/s, accuracy=0.997]\n",
      "Epoch 91/100: 100%|██████████| 118/118 [00:13<00:00,  8.74batches/s, GPU_mem=0.614G, accuracy=0.989, loss=0.0398]\n",
      "Test: 100%|██████████| 10/10 [00:00<00:00, 11.36batches/s, accuracy=0.997]\n",
      "Epoch 92/100: 100%|██████████| 118/118 [00:13<00:00,  8.75batches/s, GPU_mem=0.614G, accuracy=0.988, loss=0.0418]\n",
      "Test: 100%|██████████| 10/10 [00:00<00:00, 11.53batches/s, accuracy=0.997]\n",
      "Epoch 93/100: 100%|██████████| 118/118 [00:13<00:00,  8.77batches/s, GPU_mem=0.614G, accuracy=0.988, loss=0.0417]\n",
      "Test: 100%|██████████| 10/10 [00:00<00:00, 11.10batches/s, accuracy=0.997]\n",
      "Epoch 94/100: 100%|██████████| 118/118 [00:13<00:00,  8.68batches/s, GPU_mem=0.614G, accuracy=0.989, loss=0.0424]\n",
      "Test: 100%|██████████| 10/10 [00:00<00:00, 10.91batches/s, accuracy=0.996]\n",
      "Epoch 95/100: 100%|██████████| 118/118 [00:13<00:00,  8.73batches/s, GPU_mem=0.614G, accuracy=0.989, loss=0.0404]\n",
      "Test: 100%|██████████| 10/10 [00:00<00:00, 11.75batches/s, accuracy=0.997]\n",
      "Epoch 96/100: 100%|██████████| 118/118 [00:13<00:00,  8.77batches/s, GPU_mem=0.614G, accuracy=0.989, loss=0.0407]\n",
      "Test: 100%|██████████| 10/10 [00:00<00:00, 11.64batches/s, accuracy=0.997]\n",
      "Epoch 97/100: 100%|██████████| 118/118 [00:13<00:00,  8.75batches/s, GPU_mem=0.614G, accuracy=0.988, loss=0.041] \n",
      "Test: 100%|██████████| 10/10 [00:00<00:00, 11.57batches/s, accuracy=0.996]\n",
      "Epoch 98/100: 100%|██████████| 118/118 [00:13<00:00,  8.71batches/s, GPU_mem=0.614G, accuracy=0.988, loss=0.0426]\n",
      "Test: 100%|██████████| 10/10 [00:00<00:00, 11.49batches/s, accuracy=0.997]\n",
      "Epoch 99/100: 100%|██████████| 118/118 [00:13<00:00,  8.73batches/s, GPU_mem=0.614G, accuracy=0.988, loss=0.0396]\n",
      "Test: 100%|██████████| 10/10 [00:00<00:00, 11.15batches/s, accuracy=0.997]\n",
      "Epoch 100/100: 100%|██████████| 118/118 [00:13<00:00,  8.63batches/s, GPU_mem=0.614G, accuracy=0.988, loss=0.0429]\n",
      "Test: 100%|██████████| 10/10 [00:00<00:00, 11.15batches/s, accuracy=0.997]"
     ]
    },
    {
     "name": "stdout",
     "output_type": "stream",
     "text": [
      "max accuracy: 99.7%\n"
     ]
    },
    {
     "name": "stderr",
     "output_type": "stream",
     "text": [
      "\n"
     ]
    }
   ],
   "source": [
    "for e in range(1, epochs + 1):\n",
    "    train(e)\n",
    "    test(e)\n",
    "print(f'max accuracy: {100 * max(test_accuracies):.1f}%')"
   ],
   "metadata": {
    "collapsed": false,
    "ExecuteTime": {
     "start_time": "2023-05-04T10:59:43.810468Z",
     "end_time": "2023-05-04T11:25:49.064382Z"
    }
   }
  }
 ],
 "metadata": {
  "kernelspec": {
   "display_name": "Python 3",
   "language": "python",
   "name": "python3"
  },
  "language_info": {
   "codemirror_mode": {
    "name": "ipython",
    "version": 2
   },
   "file_extension": ".py",
   "mimetype": "text/x-python",
   "name": "python",
   "nbconvert_exporter": "python",
   "pygments_lexer": "ipython2",
   "version": "2.7.6"
  }
 },
 "nbformat": 4,
 "nbformat_minor": 0
}
